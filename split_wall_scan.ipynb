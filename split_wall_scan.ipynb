{
 "cells": [
  {
   "cell_type": "code",
   "execution_count": null,
   "id": "bf0f4e62-0322-4b63-86dc-6fd349548b1c",
   "metadata": {},
   "outputs": [],
   "source": [
    "import numpy as np\n",
    "import matplotlib.pyplot as plt\n",
    "import matplotlib\n",
    "from scipy.interpolate import interp1d, interp2d\n",
    "\n",
    "\n",
    "matplotlib.rc('figure', figsize=(20, 20))"
   ]
  },
  {
   "cell_type": "code",
   "execution_count": null,
   "id": "3bd03fe5-c1b5-4d56-8b0a-c97875150b27",
   "metadata": {},
   "outputs": [],
   "source": [
    "PATH_TO_WALL_SCAN = '../f1tenth_gym/maps/wall_scan.npz'\n",
    "RESOLUTION = 0.5"
   ]
  },
  {
   "cell_type": "code",
   "execution_count": null,
   "id": "cc995217-ccd2-4b3b-8475-8ccf91561918",
   "metadata": {},
   "outputs": [],
   "source": [
    "wall_scan = np.load(PATH_TO_WALL_SCAN)['wall_scan']"
   ]
  },
  {
   "cell_type": "code",
   "execution_count": null,
   "id": "18801017-ba3a-4d15-94a9-b7e9d046e618",
   "metadata": {},
   "outputs": [],
   "source": [
    "wall_scan.shape"
   ]
  },
  {
   "cell_type": "code",
   "execution_count": null,
   "id": "4d97d5d5-0849-4009-8361-4ddd28ee2626",
   "metadata": {},
   "outputs": [],
   "source": [
    "plt.scatter(wall_scan[:, 0], wall_scan[:, 1], alpha=0.1);"
   ]
  },
  {
   "cell_type": "markdown",
   "id": "49dc2aea-a3b1-4776-99a3-b1a29cfa5abf",
   "metadata": {},
   "source": [
    "# First, divide the points into two bounds"
   ]
  },
  {
   "cell_type": "code",
   "execution_count": null,
   "id": "a34c0791-579a-4d52-9401-4797a9c4609b",
   "metadata": {},
   "outputs": [],
   "source": [
    "ALLOWED_DISTANCE = 2\n",
    "\n",
    "visited = [0]\n",
    "not_visited = list(range(1, len(wall_scan)))\n",
    "\n",
    "\n",
    "while True:\n",
    "    distances = np.linalg.norm(wall_scan[visited][np.newaxis] - wall_scan[not_visited][:, np.newaxis], axis=2)\n",
    "    min_distance = np.min(distances)\n",
    "    if min_distance > ALLOWED_DISTANCE:\n",
    "        break\n",
    "        \n",
    "    closest_idx = np.where(distances == min_distance)[0][0]\n",
    "    visited.append(not_visited[closest_idx])\n",
    "    not_visited.remove(not_visited[closest_idx])"
   ]
  },
  {
   "cell_type": "code",
   "execution_count": null,
   "id": "d0561e98-61f9-48e5-baad-368189c5ddc5",
   "metadata": {},
   "outputs": [],
   "source": [
    "left_bound = wall_scan[visited]\n",
    "right_bound = wall_scan[not_visited]\n",
    "\n",
    "plt.scatter(left_bound[:, 0], left_bound[:, 1], alpha=0.2)\n",
    "plt.scatter(right_bound[:, 0], right_bound[:, 1], alpha=0.2)\n",
    "plt.scatter(wall_scan[:, 0], wall_scan[:, 1], alpha=0.1);"
   ]
  },
  {
   "cell_type": "markdown",
   "id": "c9d95dfd-8d59-4d34-99f2-d0de9271ba89",
   "metadata": {},
   "source": [
    "# Now, we need to sort them"
   ]
  },
  {
   "cell_type": "code",
   "execution_count": null,
   "id": "cbd9bbd2-2e13-4bed-9b28-f90c3d2022bf",
   "metadata": {},
   "outputs": [],
   "source": [
    "def sort_bound(bound):\n",
    "    # Initially, I used 0 as the starting index but that's region in which the density is too high\n",
    "    current_idx = len(bound) // 2\n",
    "    not_visited = list(range(len(bound)))\n",
    "    not_visited.remove(current_idx)\n",
    "    indices = []\n",
    "\n",
    "    while len(not_visited) > 0:\n",
    "        distances = np.linalg.norm(bound[current_idx] - bound[not_visited], axis=1)\n",
    "        closest_idx = np.argmin(distances)\n",
    "\n",
    "        indices.append(current_idx)\n",
    "        current_idx = not_visited[closest_idx]\n",
    "        not_visited.remove(current_idx)\n",
    "    \n",
    "    return bound[indices]"
   ]
  },
  {
   "cell_type": "code",
   "execution_count": null,
   "id": "45a60143-24b0-4786-bd8a-40852adc8d15",
   "metadata": {},
   "outputs": [],
   "source": [
    "left_bound = sort_bound(left_bound)\n",
    "right_bound = sort_bound(right_bound)"
   ]
  },
  {
   "cell_type": "code",
   "execution_count": null,
   "id": "cca1b1a4-3a93-4efb-9f26-a4e388663295",
   "metadata": {},
   "outputs": [],
   "source": [
    "def get_normalized_progress(bound):\n",
    "    diffs = np.linalg.norm(np.diff(np.r_[bound, bound[[-1]]], axis=0), axis=1)\n",
    "    total_distance = diffs.sum()\n",
    "    return diffs.cumsum() / total_distance, total_distance"
   ]
  },
  {
   "cell_type": "code",
   "execution_count": null,
   "id": "980835e7-02f8-4e7d-87da-0e183f5cef76",
   "metadata": {},
   "outputs": [],
   "source": [
    "left_normalized_progress, left_total_distance = get_normalized_progress(left_bound)\n",
    "right_normalized_progress, right_total_distance = get_normalized_progress(right_bound)"
   ]
  },
  {
   "cell_type": "code",
   "execution_count": null,
   "id": "2ffe4283-665c-4e8f-bba0-0db213e551ce",
   "metadata": {},
   "outputs": [],
   "source": [
    "common_kwargs = dict(\n",
    "    assume_sorted=True,\n",
    "    fill_value='extrapolate',\n",
    ")\n",
    "\n",
    "left_x_coord_fn = interp1d(left_normalized_progress, left_bound[:, 0], **common_kwargs)\n",
    "left_y_coord_fn = interp1d(left_normalized_progress, left_bound[:, 1], **common_kwargs)\n",
    "\n",
    "right_x_coord_fn = interp1d(right_normalized_progress, right_bound[:, 0], **common_kwargs)\n",
    "right_y_coord_fn = interp1d(right_normalized_progress, right_bound[:, 1], **common_kwargs)"
   ]
  },
  {
   "cell_type": "code",
   "execution_count": null,
   "id": "a8dda36c-212e-4d10-b75e-2dca37419fa9",
   "metadata": {},
   "outputs": [],
   "source": [
    "num_steps = 1000\n",
    "time_steps = np.arange(num_steps + 1) / num_steps"
   ]
  },
  {
   "cell_type": "code",
   "execution_count": null,
   "id": "22ce3a7a-063a-4f32-b7b6-78d9aef4694f",
   "metadata": {},
   "outputs": [],
   "source": [
    "interior = np.c_[left_x_coord_fn(time_steps), left_y_coord_fn(time_steps)]\n",
    "exterior = np.c_[right_x_coord_fn(time_steps), right_y_coord_fn(time_steps)]\n",
    "plt.scatter(interior[:, 0], interior[:, 1], alpha=0.2);\n",
    "plt.scatter(exterior[:, 0], exterior[:, 1], alpha=0.2);"
   ]
  },
  {
   "cell_type": "code",
   "execution_count": null,
   "id": "034bd658-f6da-43e2-886e-9e603fa7a3c5",
   "metadata": {},
   "outputs": [],
   "source": [
    "pd.DataFrame(interior).to_csv('interior.csv', index=False, header=None)\n",
    "pd.DataFrame(exterior).to_csv('exterior.csv', index=False, header=None)"
   ]
  },
  {
   "cell_type": "code",
   "execution_count": null,
   "id": "b350e5cb-edd5-48bb-a65b-252563b6548a",
   "metadata": {},
   "outputs": [],
   "source": []
  }
 ],
 "metadata": {
  "kernelspec": {
   "display_name": "Python 3 (ipykernel)",
   "language": "python",
   "name": "python3"
  },
  "language_info": {
   "codemirror_mode": {
    "name": "ipython",
    "version": 3
   },
   "file_extension": ".py",
   "mimetype": "text/x-python",
   "name": "python",
   "nbconvert_exporter": "python",
   "pygments_lexer": "ipython3",
   "version": "3.9.7"
  }
 },
 "nbformat": 4,
 "nbformat_minor": 5
}
