{
 "cells": [
  {
   "cell_type": "code",
   "execution_count": null,
   "id": "adjacent-flashing",
   "metadata": {},
   "outputs": [],
   "source": [
    "import numpy as np\n",
    "import pandas as pd\n",
    "import matplotlib.pyplot as plt\n",
    "from scipy.interpolate import interp1d, interp2d"
   ]
  },
  {
   "cell_type": "code",
   "execution_count": null,
   "id": "rational-lender",
   "metadata": {},
   "outputs": [],
   "source": [
    "data = pd.read_pickle('data/recordings/2021-09-18_22_35_56.328239.pkl')\n",
    "data = pd.read_pickle('data/recordings/2021-09-19_14_59_39.406932.pkl')\n",
    "data = pd.read_pickle('/tmp/2021-09-28_14_17_07.000342.pkl')\n",
    "data = pd.read_pickle('./2021-09-28_14_59_58.491483.pkl')"
   ]
  },
  {
   "cell_type": "code",
   "execution_count": null,
   "id": "regional-stake",
   "metadata": {},
   "outputs": [],
   "source": [
    "data.head()"
   ]
  },
  {
   "cell_type": "code",
   "execution_count": null,
   "id": "closed-replacement",
   "metadata": {},
   "outputs": [],
   "source": [
    "data['speed'] = data['velocity'].apply(np.linalg.norm)\n",
    "data['time'] -= data['time'].iloc[0]\n",
    "data['x_position'] = data['position'].apply(lambda pos: pos[0])\n",
    "data['y_position'] = data['position'].apply(lambda pos: pos[1])"
   ]
  },
  {
   "cell_type": "code",
   "execution_count": null,
   "id": "round-albania",
   "metadata": {},
   "outputs": [],
   "source": [
    "plt.scatter(data['x_position'], data['y_position'], alpha=0.1)\n",
    "plt.gca().set_aspect('equal')\n",
    "plt.show();"
   ]
  },
  {
   "cell_type": "code",
   "execution_count": null,
   "id": "muslim-spanking",
   "metadata": {},
   "outputs": [],
   "source": [
    "plt.plot(data['speed_actuator']);"
   ]
  },
  {
   "cell_type": "code",
   "execution_count": null,
   "id": "rational-facility",
   "metadata": {},
   "outputs": [],
   "source": [
    "plt.plot(data['speed_actuator'].diff());"
   ]
  },
  {
   "cell_type": "code",
   "execution_count": null,
   "id": "vanilla-occurrence",
   "metadata": {},
   "outputs": [],
   "source": [
    "plt.plot(data['speed']);"
   ]
  },
  {
   "cell_type": "code",
   "execution_count": null,
   "id": "pleasant-fancy",
   "metadata": {},
   "outputs": [],
   "source": [
    "plt.plot(data['speed_actuator'] - data['speed']);"
   ]
  },
  {
   "cell_type": "code",
   "execution_count": null,
   "id": "experimental-retro",
   "metadata": {},
   "outputs": [],
   "source": [
    "plt.plot(data['speed'].diff() / data['time'].diff());"
   ]
  },
  {
   "cell_type": "code",
   "execution_count": null,
   "id": "aquatic-musician",
   "metadata": {},
   "outputs": [],
   "source": [
    "plt.plot(data['delta']);"
   ]
  },
  {
   "cell_type": "code",
   "execution_count": null,
   "id": "early-thesis",
   "metadata": {},
   "outputs": [],
   "source": [
    "plt.plot(data['delta'].diff());"
   ]
  },
  {
   "cell_type": "code",
   "execution_count": null,
   "id": "severe-tongue",
   "metadata": {},
   "outputs": [],
   "source": [
    "start_idx = 2350\n",
    "trajectory_len = 150\n",
    "\n",
    "subdata = data.iloc[start_idx:(start_idx + trajectory_len)]"
   ]
  },
  {
   "cell_type": "code",
   "execution_count": null,
   "id": "further-aaron",
   "metadata": {},
   "outputs": [],
   "source": [
    "plt.scatter(subdata['x_position'], subdata['y_position'], alpha=0.5)\n",
    "plt.scatter(data['x_position'], data['y_position'], alpha=0.01)\n",
    "plt.gca().set_aspect('equal')\n",
    "\n",
    "plt.show();\n",
    "\n",
    "plt.scatter(subdata['x_position'], subdata['y_position'], alpha=0.5);\n",
    "plt.show()"
   ]
  },
  {
   "cell_type": "code",
   "execution_count": null,
   "id": "comic-petersburg",
   "metadata": {},
   "outputs": [],
   "source": [
    "plt.plot(subdata['time'], 10 * subdata['delta'], label='10 x delta');\n",
    "plt.plot(subdata['time'], subdata['speed_actuator'] - subdata['speed'], label='speed_actuator')\n",
    "plt.legend()\n",
    "plt.show()"
   ]
  },
  {
   "cell_type": "code",
   "execution_count": null,
   "id": "figured-picking",
   "metadata": {},
   "outputs": [],
   "source": [
    "delta_fn = interp1d(subdata['time'], subdata['delta'], assume_sorted=True)\n",
    "speed_act_fn = interp1d(subdata['time'], subdata['speed_actuator'], assume_sorted=True)"
   ]
  },
  {
   "cell_type": "code",
   "execution_count": null,
   "id": "corrected-harbor",
   "metadata": {},
   "outputs": [],
   "source": [
    "start_time, end_time = subdata['time'].min(), subdata['time'].max()\n",
    "horizon = end_time - start_time\n",
    "steps = 20\n",
    "time_steps = np.array([start_time + i * horizon / steps for i in range(steps)])\n",
    "delta_steps = delta_fn(time_steps)\n",
    "speed_act_steps = speed_act_fn(time_steps)\n",
    "plt.plot(time_steps, 10 * delta_steps)\n",
    "plt.plot(time_steps, speed_act_steps)\n",
    "plt.plot(subdata['time'], 10 * subdata['delta']);\n",
    "plt.plot(subdata['time'], subdata['speed_actuator']);"
   ]
  },
  {
   "cell_type": "code",
   "execution_count": null,
   "id": "quarterly-planner",
   "metadata": {},
   "outputs": [],
   "source": [
    "delta_subfn = interp1d(time_steps, delta_steps, assume_sorted=True, fill_value='extrapolate')\n",
    "speed_act_subfn = interp1d(time_steps, speed_act_steps, assume_sorted=True, fill_value='extrapolate')"
   ]
  },
  {
   "cell_type": "code",
   "execution_count": null,
   "id": "heavy-concern",
   "metadata": {},
   "outputs": [],
   "source": [
    "((delta_subfn(subdata['time']) - subdata['delta']) ** 2).mean() / subdata['delta'].abs().mean()"
   ]
  },
  {
   "cell_type": "code",
   "execution_count": null,
   "id": "dirty-sector",
   "metadata": {},
   "outputs": [],
   "source": [
    "((speed_act_subfn(subdata['time']) - subdata['speed_actuator']) ** 2).mean()"
   ]
  },
  {
   "cell_type": "code",
   "execution_count": null,
   "id": "contemporary-killer",
   "metadata": {},
   "outputs": [],
   "source": [
    "((speed_act_subfn(subdata['time']) - subdata['speed_actuator']) ** 2).max()"
   ]
  },
  {
   "cell_type": "markdown",
   "id": "human-helicopter",
   "metadata": {},
   "source": [
    "# OK, so it seems 20 points should suffice, let's now check out the 2D interpolation"
   ]
  },
  {
   "cell_type": "code",
   "execution_count": null,
   "id": "earned-murder",
   "metadata": {},
   "outputs": [],
   "source": [
    "plt.scatter(subdata['x_position'], subdata['y_position'], alpha=0.1);"
   ]
  },
  {
   "cell_type": "code",
   "execution_count": null,
   "id": "accepted-customer",
   "metadata": {},
   "outputs": [],
   "source": [
    "x_coord_fn = interp1d(subdata['time'], subdata['x_position'], assume_sorted=True)\n",
    "y_coord_fn = interp1d(subdata['time'], subdata['y_position'], assume_sorted=True)"
   ]
  },
  {
   "cell_type": "code",
   "execution_count": null,
   "id": "gross-france",
   "metadata": {},
   "outputs": [],
   "source": [
    "x_coord_steps = x_coord_fn(time_steps)\n",
    "y_coord_steps = y_coord_fn(time_steps)"
   ]
  },
  {
   "cell_type": "code",
   "execution_count": null,
   "id": "rotary-reservation",
   "metadata": {},
   "outputs": [],
   "source": [
    "plt.scatter(subdata['x_position'], subdata['y_position'], alpha=0.1)\n",
    "plt.scatter(x_coord_steps, y_coord_steps, alpha=0.8, color='k');"
   ]
  },
  {
   "cell_type": "code",
   "execution_count": null,
   "id": "crude-investigation",
   "metadata": {},
   "outputs": [],
   "source": [
    "x_coord_subfn = interp1d(time_steps, x_coord_steps, assume_sorted=True, fill_value='extrapolate')\n",
    "y_coord_subfn = interp1d(time_steps, y_coord_steps, assume_sorted=True, fill_value='extrapolate')"
   ]
  },
  {
   "cell_type": "code",
   "execution_count": null,
   "id": "institutional-acrobat",
   "metadata": {},
   "outputs": [],
   "source": [
    "((x_coord_subfn(subdata['time']) - subdata['x_position']) ** 2).mean()"
   ]
  },
  {
   "cell_type": "code",
   "execution_count": null,
   "id": "medium-indicator",
   "metadata": {},
   "outputs": [],
   "source": [
    "((x_coord_subfn(subdata['time']) - subdata['x_position']) ** 2).max()"
   ]
  },
  {
   "cell_type": "code",
   "execution_count": null,
   "id": "matched-crowd",
   "metadata": {},
   "outputs": [],
   "source": [
    "((y_coord_subfn(subdata['time']) - subdata['y_position']) ** 2).mean()"
   ]
  },
  {
   "cell_type": "code",
   "execution_count": null,
   "id": "twenty-renaissance",
   "metadata": {},
   "outputs": [],
   "source": [
    "((x_coord_subfn(subdata['time']) - subdata['x_position']) ** 2).max()"
   ]
  },
  {
   "cell_type": "code",
   "execution_count": null,
   "id": "4900ec96-e483-41c4-81c6-30a8833a2c38",
   "metadata": {},
   "outputs": [],
   "source": []
  }
 ],
 "metadata": {
  "kernelspec": {
   "display_name": "Python 3 (ipykernel)",
   "language": "python",
   "name": "python3"
  },
  "language_info": {
   "codemirror_mode": {
    "name": "ipython",
    "version": 3
   },
   "file_extension": ".py",
   "mimetype": "text/x-python",
   "name": "python",
   "nbconvert_exporter": "python",
   "pygments_lexer": "ipython3",
   "version": "3.9.7"
  }
 },
 "nbformat": 4,
 "nbformat_minor": 5
}
